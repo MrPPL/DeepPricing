{
 "cells": [
  {
   "cell_type": "code",
   "execution_count": 2,
   "metadata": {},
   "outputs": [],
   "source": [
    "# Read packages into Python library:\n",
    "import numpy as np"
   ]
  },
  {
   "cell_type": "code",
   "execution_count": 4,
   "metadata": {},
   "outputs": [],
   "source": [
    "#Defined parameters in article\n",
    "T=1\n",
    "spotPrice=100\n",
    "K=100\n",
    "r=0.05\n",
    "dividend = 0.0\n",
    "volatity=0.2\n",
    "correlation=0.2\n",
    "N=10 # exercise dtes\n",
    "\n"
   ]
  },
  {
   "cell_type": "code",
   "execution_count": 8,
   "metadata": {},
   "outputs": [],
   "source": [
    "P = np.linspace(250,1000,4) # points for training in GPR"
   ]
  },
  {
   "cell_type": "code",
   "execution_count": 16,
   "metadata": {},
   "outputs": [],
   "source": [
    "M = np.array([10**3,10**4,10**5]) # Points for test in GPR"
   ]
  },
  {
   "cell_type": "code",
   "execution_count": 18,
   "metadata": {},
   "outputs": [],
   "source": [
    "Q = 10**4 #points for computation of the European prices with GPR-EI formula"
   ]
  },
  {
   "cell_type": "code",
   "execution_count": 20,
   "metadata": {},
   "outputs": [],
   "source": [
    "dim = np.array([2,5,10,20,40]) #dimension of problem (number of assets)"
   ]
  },
  {
   "cell_type": "code",
   "execution_count": 21,
   "metadata": {},
   "outputs": [],
   "source": [
    "#Halton generator\n",
    "def next_prime():\n",
    "    def is_prime(num):\n",
    "        \"Checks if num is a prime value\"\n",
    "        for i in range(2,int(num**0.5)+1):\n",
    "            if(num % i)==0: return False\n",
    "        return True\n",
    " \n",
    "    prime = 3\n",
    "    while(1):\n",
    "        if is_prime(prime):\n",
    "            yield prime\n",
    "        prime += 2\n",
    "\n",
    "def vdc(n, base=2):\n",
    "    vdc, denom = 0, 1\n",
    "    while n:\n",
    "        denom *= base\n",
    "        n, remainder = divmod(n, base)\n",
    "        vdc += remainder/float(denom)\n",
    "    return vdc\n",
    "\n",
    "def halton_sequence(size, dim):\n",
    "    seq = []\n",
    "    primeGen = next_prime()\n",
    "    next(primeGen)\n",
    "    for d in range(dim):\n",
    "        base = next(primeGen)\n",
    "        seq.append([vdc(i, base) for i in range(size)])\n",
    "    return seq"
   ]
  },
  {
   "cell_type": "code",
   "execution_count": 50,
   "metadata": {},
   "outputs": [
    {
     "data": {
      "text/plain": [
       "0.75"
      ]
     },
     "execution_count": 50,
     "metadata": {},
     "output_type": "execute_result"
    }
   ],
   "source": [
    "vdc(3)"
   ]
  },
  {
   "cell_type": "code",
   "execution_count": 46,
   "metadata": {},
   "outputs": [],
   "source": [
    "def matprint(mat, fmt=\"g\"):\n",
    "    col_maxes = [max([len((\"{:\"+fmt+\"}\").format(x)) for x in col]) for col in mat.T]\n",
    "    for x in mat:\n",
    "        for i, y in enumerate(x):\n",
    "            print((\"{:\"+str(col_maxes[i])+fmt+\"}\").format(y), end=\"  \")\n",
    "        print(\"\")"
   ]
  },
  {
   "cell_type": "code",
   "execution_count": 33,
   "metadata": {},
   "outputs": [
    {
     "data": {
      "text/plain": [
       "1.6448536269514722"
      ]
     },
     "execution_count": 33,
     "metadata": {},
     "output_type": "execute_result"
    }
   ],
   "source": [
    "from scipy.stats import norm #find normal distribution\n",
    "norm.ppf(0.95, loc=0, scale=1) #inverse of normal distribution"
   ]
  },
  {
   "cell_type": "code",
   "execution_count": 34,
   "metadata": {},
   "outputs": [
    {
     "data": {
      "text/plain": [
       "0.95"
      ]
     },
     "execution_count": 34,
     "metadata": {},
     "output_type": "execute_result"
    }
   ],
   "source": [
    "norm.cdf(norm.ppf(0.95)) ## CDF of inverse of normal distribution"
   ]
  },
  {
   "cell_type": "code",
   "execution_count": 41,
   "metadata": {},
   "outputs": [],
   "source": [
    "def x_np(size, dim, r, dividend, volatility, time, spotPrice):\n",
    "    hsec = halton_sequence(size, dim) #d dimensionel halton_sequence\n",
    "    exponent = (r-dividend - (volatility**2)/2) * time + np.sqrt(time)*volatility*norm.pdf(hsec[p])\n",
    "    return spotPrice * np.exp(exponent)"
   ]
  },
  {
   "cell_type": "code",
   "execution_count": null,
   "metadata": {},
   "outputs": [],
   "source": [
    "def tildex_np(size, dim, r, dividend, volatility, stepSize, spotPrice):\n",
    "    x <- x_np(size, dim, r, dividend, volatility, time, spotPrice)\n",
    "    G <-\n",
    "    x*np.exp(r-dividend-sigma**2/2)*stepSize + np.sqrt(stepSize)*volatility*G[i]"
   ]
  }
 ],
 "metadata": {
  "kernelspec": {
   "display_name": "Python 3",
   "language": "python",
   "name": "python3"
  },
  "language_info": {
   "codemirror_mode": {
    "name": "ipython",
    "version": 3
   },
   "file_extension": ".py",
   "mimetype": "text/x-python",
   "name": "python",
   "nbconvert_exporter": "python",
   "pygments_lexer": "ipython3",
   "version": "3.6.9"
  }
 },
 "nbformat": 4,
 "nbformat_minor": 2
}
