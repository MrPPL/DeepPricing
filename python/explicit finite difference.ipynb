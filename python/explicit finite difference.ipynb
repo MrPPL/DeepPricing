{
 "cells": [
  {
   "cell_type": "code",
   "execution_count": 109,
   "metadata": {},
   "outputs": [],
   "source": [
    "import numpy as np\n",
    "\n",
    "\n",
    "def finite_dif(n,k,M):\n",
    "    h = 1/(n+1)\n",
    "    s = k/h**2\n",
    "    w = [0] * (n+2)\n",
    "    for i in range(n+2):\n",
    "        w[i]=g(i*h)\n",
    "    t = 0\n",
    "    \n",
    "    v = [0]*(n+2)\n",
    "    for j in range(1, M+1):\n",
    "        v[0] = a(j*k)\n",
    "        v[(n+1)] = b(j*k)\n",
    "        for i in range(1,n+1):\n",
    "            v[i] = s*w[i-1]+(1-(2*s))*w[i] + s * w[i+1]\n",
    "        t = j  * k\n",
    "        w[1:n+1] = v[1:n+1]\n",
    "    return (\"solution:\", v, \"t variabel\", t)"
   ]
  },
  {
   "cell_type": "code",
   "execution_count": 121,
   "metadata": {},
   "outputs": [
    {
     "name": "stdout",
     "output_type": "stream",
     "text": [
      "('solution:', [0, 1.045747236988836e-05, 1.9891294482501796e-05, 2.7378018100785324e-05, 3.218479055293051e-05, 3.384109146180617e-05, 3.2184790552955e-05, 2.737801810083431e-05, 1.989129448257527e-05, 1.0457472369986335e-05, 0], 't variabel', 1.0250000000000001)\n"
     ]
    }
   ],
   "source": [
    "#computer problem 9.1\n",
    "\n",
    "def b(t):\n",
    "    return 0\n",
    "\n",
    "def a(t):\n",
    "    return 0\n",
    "\n",
    "def g(x):\n",
    "    return np.sin(np.pi * x)\n",
    "\n",
    "print(finite_dif(n=9, k=0.005125, M=200))"
   ]
  },
  {
   "cell_type": "code",
   "execution_count": 122,
   "metadata": {},
   "outputs": [
    {
     "data": {
      "text/plain": [
       "[0.0,\n",
       " 1.2488485268319588e-05,\n",
       " 2.375451058618275e-05,\n",
       " 3.269527890046303e-05,\n",
       " 3.8435605514562875e-05,\n",
       " 4.041358726428689e-05,\n",
       " 3.843560551456288e-05,\n",
       " 3.269527890046303e-05,\n",
       " 2.3754510586182753e-05,\n",
       " 1.2488485268319592e-05,\n",
       " 4.9492370285271176e-21]"
      ]
     },
     "execution_count": 122,
     "metadata": {},
     "output_type": "execute_result"
    }
   ],
   "source": [
    "t=1.025\n",
    "v1 = []\n",
    "for i in range(11):\n",
    "    v1.append(np.exp(-(np.pi**2)*t ) *np.sin(np.pi * (i/10)))\n",
    "v1"
   ]
  },
  {
   "cell_type": "code",
   "execution_count": 117,
   "metadata": {},
   "outputs": [],
   "source": [
    "k11= []\n",
    "k11.append(9)"
   ]
  },
  {
   "cell_type": "code",
   "execution_count": 118,
   "metadata": {},
   "outputs": [
    {
     "data": {
      "text/plain": [
       "[9]"
      ]
     },
     "execution_count": 118,
     "metadata": {},
     "output_type": "execute_result"
    }
   ],
   "source": [
    "k11\n"
   ]
  },
  {
   "cell_type": "code",
   "execution_count": null,
   "metadata": {},
   "outputs": [],
   "source": []
  }
 ],
 "metadata": {
  "kernelspec": {
   "display_name": "Python 3",
   "language": "python",
   "name": "python3"
  },
  "language_info": {
   "codemirror_mode": {
    "name": "ipython",
    "version": 3
   },
   "file_extension": ".py",
   "mimetype": "text/x-python",
   "name": "python",
   "nbconvert_exporter": "python",
   "pygments_lexer": "ipython3",
   "version": "3.6.9"
  }
 },
 "nbformat": 4,
 "nbformat_minor": 2
}
