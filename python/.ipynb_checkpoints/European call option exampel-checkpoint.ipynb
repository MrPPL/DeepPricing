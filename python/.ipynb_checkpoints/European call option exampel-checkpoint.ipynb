{
 "cells": [
  {
   "cell_type": "code",
   "execution_count": 8,
   "metadata": {},
   "outputs": [
    {
     "data": {
      "text/plain": [
       "<scipy.stats._distn_infrastructure.rv_frozen at 0x7f73bf4c8860>"
      ]
     },
     "execution_count": 8,
     "metadata": {},
     "output_type": "execute_result"
    }
   ],
   "source": [
    "import numpy as np\n",
    "from scipy import stats\n",
    "from scipy.stats import norm\n",
    "norm(0)"
   ]
  },
  {
   "cell_type": "code",
   "execution_count": 23,
   "metadata": {},
   "outputs": [],
   "source": [
    "#analytical formula for european call:\n",
    "def priceECall(t,s, sigma, K, r, T):\n",
    "    d1 = (1/(sigma*(T-t)**0.5)) * (np.log(s/K) + (r + sigma**2 / 2) * (T-t))\n",
    "    print(\"d1\", d1)\n",
    "    d2 = d1 - sigma * (T-t)**0.5\n",
    "    print(\"d2\", d2)\n",
    "    return s* norm.cdf(d1) - np.exp(-r*(T-t))*K*norm.cdf(d2)\n",
    "    "
   ]
  },
  {
   "cell_type": "code",
   "execution_count": 24,
   "metadata": {},
   "outputs": [
    {
     "name": "stdout",
     "output_type": "stream",
     "text": [
      "d1 0.043856273482523765\n",
      "d2 -0.19528385280330057\n"
     ]
    },
    {
     "data": {
      "text/plain": [
       "40.10465825224699"
      ]
     },
     "execution_count": 24,
     "metadata": {},
     "output_type": "execute_result"
    }
   ],
   "source": [
    "#exampel\n",
    "#URL: https://www.quora.com/q/invento/Advanced-Black-Scholes-calculation-with-a-real-example\n",
    "s = 460\n",
    "K = 470\n",
    "r = 0.02\n",
    "sigma = 0.58 #(58% deviation in annual returns) -  Apple Inc (AAPL) Stock Report\n",
    "T=1\n",
    "t = 0.83 #(2 month)\n",
    "priceECall(t,s, sigma, K, r, T)"
   ]
  },
  {
   "cell_type": "code",
   "execution_count": 25,
   "metadata": {},
   "outputs": [
    {
     "data": {
      "text/plain": [
       "38.28074813711018"
      ]
     },
     "execution_count": 25,
     "metadata": {},
     "output_type": "execute_result"
    }
   ],
   "source": [
    "460 * norm.cdf(0.1875) - 470 * np.exp(0.02*0.17)*norm.cdf(-0.0525)"
   ]
  },
  {
   "cell_type": "code",
   "execution_count": null,
   "metadata": {},
   "outputs": [],
   "source": []
  }
 ],
 "metadata": {
  "kernelspec": {
   "display_name": "Python 3",
   "language": "python",
   "name": "python3"
  },
  "language_info": {
   "codemirror_mode": {
    "name": "ipython",
    "version": 3
   },
   "file_extension": ".py",
   "mimetype": "text/x-python",
   "name": "python",
   "nbconvert_exporter": "python",
   "pygments_lexer": "ipython3",
   "version": "3.6.9"
  }
 },
 "nbformat": 4,
 "nbformat_minor": 2
}
